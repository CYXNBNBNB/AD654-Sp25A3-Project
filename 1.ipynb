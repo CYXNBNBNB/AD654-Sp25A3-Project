{
 "cells": [
  {
   "cell_type": "markdown",
   "id": "9a72aeb9",
   "metadata": {},
   "source": [
    "Here is the link of our dashboard:\n",
    "\n",
    "https://public.tableau.com/app/profile/shangxuan.zhong/viz/AD654-Project_17454516184220/dashboard\n",
    "\n",
    "And also, here is a picture of the whole dashboard."
   ]
  },
  {
   "cell_type": "markdown",
   "id": "66177363",
   "metadata": {},
   "source": [
    "![dashboard](image/dashboard.png)"
   ]
  },
  {
   "cell_type": "markdown",
   "id": "852a11ed",
   "metadata": {},
   "source": [
    "To support Lobster Land's exploration into the cruise industry, I've built a dashboard that highlights key trends and operational characteristics across cruise lines. The goal is to provide a clear picture of the landscape, especially as you weigh options like co-sponsoring a cruise, chartering, or eventually operating your own ship out of Portland.\n",
    "\n",
    "One of the main takeaways is the strong link between ship tonnage and passenger capacity, as shown in the Passenger Capacity vs. Tonnage scatter plot. Bigger ships, like those operated by Royal Caribbean and Carnival, can carry more passengers, while luxury lines such as Silversea and Regent Seven Seas intentionally keep their ships smaller for a more exclusive experience. The Average Passenger Density bar chart is especially useful for understanding how much space passengers get. Luxury lines average 50 to 60 tons of ship per passenger, creating a spacious and upscale environment. On the other hand, mass-market lines like Carnival and Royal Caribbean average closer to 36, which supports higher passenger volumes but a less premium feel. When it comes to service, the Crew-to-Passenger Ratio treemap reveals important differences. Norwegian Cruise Line stands out here, with about 5.8 crew members per 100 passengers, pointing to a stronger service orientation compared to others in its class. The Cabins vs. Passengers scatter plot confirms what we'd expect: more passengers generally mean more cabins. But some ships, like Royal Caribbean's Oasis, push passenger numbers higher relative to cabin count, probably by offering more shared or multi-person accommodations.\n",
    "\n",
    "Consequently, for a Maine-based brand with a strong identity and family appeal, I'd recommend exploring vessels similar in size to those used by Oceania, Azamara, or Windstar. These small to mid-sized ships are a good fit for Portland's port infrastructure and offer a higher-end experience without entering the ultra-luxury space. Based on the data, vessels in the 3000 to 7000 ton range that carry 200 to 800 passengers seem ideal. Maintaining a passenger density around 40 to 45 tons per guest, comparable to lines like Holland America, would strike a nice balance between comfort and capacity. Lastly, leveraging Lobster Land's unique branding and Maine heritage could be a real asset. Whether through co-sponsoring themed sailings or testing the waters with a seasonal charter, there's a clear opportunity to carve out a niche that's different from the big players. Starting small lets you gauge interest while building brand equity in the cruise space, without the upfront risk of buying a ship right away."
   ]
  }
 ],
 "metadata": {
  "language_info": {
   "name": "python"
  }
 },
 "nbformat": 4,
 "nbformat_minor": 5
}

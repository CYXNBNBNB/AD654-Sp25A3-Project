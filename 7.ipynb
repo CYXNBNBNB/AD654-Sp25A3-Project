{
 "cells": [
  {
   "cell_type": "markdown",
   "id": "e0ec06e7",
   "metadata": {},
   "source": [
    "# Strategic Memo"
   ]
  }
 ],
 "metadata": {
  "language_info": {
   "name": "python"
  }
 },
 "nbformat": 4,
 "nbformat_minor": 5
}

{
 "cells": [
  {
   "cell_type": "markdown",
   "id": "aa7ab6ad",
   "metadata": {},
   "source": [
    "# Lobster Land Internal Strategy Memo"
   ]
  },
  {
   "cell_type": "markdown",
   "id": "af977806",
   "metadata": {},
   "source": [
    "Topic: Lobster Coast Voyage Customer Segmentation and Experience Design Strategy"
   ]
  },
  {
   "cell_type": "markdown",
   "id": "25b9aa1e",
   "metadata": {},
   "source": [
    "Date: April 2024"
   ]
  },
  {
   "cell_type": "markdown",
   "id": "44d4b3d3",
   "metadata": {},
   "source": [
    "## 1. Background"
   ]
  },
  {
   "cell_type": "markdown",
   "id": "fb39c039",
   "metadata": {},
   "source": [
    "When analyzing the cruise industry, we found that passengers generally enjoy taking or recording photos and videos of their vacations. Moreover, when they share these photos or videos, they often include direct feedback about the itinerary—something we hadn’t really noticed before. By posting on social media, tourists aim to showcase and flaunt their experiences in order to evoke envy and thus provide emotional value. Once this publicity sparks envy in others, those who haven’t experienced it themselves develop a strong desire to try it—and in the Internet age, this word-of-mouth via social proof is the most powerful marketing tool.\n",
    "\n",
    "Cruise lines today rely mainly on advertising campaigns and travel-agency promotions. We believe these methods deliver breadth but lack precision. Lobster Coast Voyage cannot, like the industry giants, spend $2 billion building a mega-ship. What we can do is identify—or even “create”—the niche markets that suit us best.\n",
    "\n",
    "Accordingly, we’ve identified three primary customer segments and, with “influencer marketing” at the core, tailored a unique onboard experience for each group. "
   ]
  },
  {
   "cell_type": "markdown",
   "id": "2b67a7d6",
   "metadata": {},
   "source": [
    "## 2. Customer segments & tailored experiences"
   ]
  },
  {
   "cell_type": "markdown",
   "id": "a14c0200",
   "metadata": {},
   "source": [
    "### 2.1 Influencers (underserved group)"
   ]
  },
  {
   "cell_type": "markdown",
   "id": "28af07d9",
   "metadata": {},
   "source": [
    "This customer group refers not only to content producers who operate social media as professionals or semi professionals, but also to ordinary tourists who enjoy taking or recording photos or videos of their vacations while traveling for sharing on social media platforms such as Instagram."
   ]
  },
  {
   "cell_type": "markdown",
   "id": "0e8e86de",
   "metadata": {},
   "source": [
    "#### Endless Twilight\n",
    "\n",
    "For this segment of guests with a strong urge to share, we’ve designed an infinity pool on the ship’s top deck, complete with a swim-up bar. Its inspiration comes from the Icon of the Seas’ approach to crafting distinct “neighborhoods,” specifically the “serene infinity-edge pool and the cruise line’s first swim-up bar at sea.”\n",
    "\n",
    "This infinity pool faces the open ocean, merging seamlessly with the horizon. At dusk, the poolside transforms into the most magical vantage point aboard. The exclusive bar offers carefully curated cocktails and seafood bites, paired with immersive music, creating the perfect moment to “swim, watch the sea, and savor the sunset” all at once. It’s not just relaxation—it’s a share-worthy, ritualistic experience.\n",
    "\n",
    "By positioning Endless Twilight as an iconic “must-visit” photo spot, we’ll instill in guests the idea that snapping a picture there is an essential part of their journey. Because Endless Twilight is an open-air venue, we’ll carefully design the shooting environment and lighting. We can invite influencers or celebrities with sizable followings to experience it first, and create a universally appealing photo template—much like how passengers on Budapest river cruises raise a glass of champagne in front of the palace for their signature shot."
   ]
  },
  {
   "cell_type": "markdown",
   "id": "7ab4d661",
   "metadata": {},
   "source": [
    "### 2.2 Familists"
   ]
  },
  {
   "cell_type": "markdown",
   "id": "3aeae3ef",
   "metadata": {},
   "source": [
    "When analyzing the characteristics of typical cruise passengers, we found that most of them travel with their spouses and children (under the age of 18) and generally have a certain level of spending power—typically belonging to the middle class or above."
   ]
  },
  {
   "cell_type": "markdown",
   "id": "3dc37b3d",
   "metadata": {},
   "source": [
    "#### Crimson Claw Castle\n",
    "\n",
    "Unlike airlines, which aim for around 80% capacity utilization, cruise lines target over 92%. In ideal scenarios, utilization can even reach 104%—this is possible because some guests share cabins or travel with children. Cruise lines achieve such high utilization by maximizing repeated use of onboard space. The larger the group traveling together, the higher the effective capacity utilization. So, why not design a special cabin specifically for guests who come to Lobster Coast Voyage to enjoy quality time with their families?\n",
    "\n",
    "Crimson Claw Castle features a master bedroom with a double bed and a separate children’s room (with bunk beds or convertible beds accommodating 1–2 children under 18). It also includes a cozy living room and a private balcony area furnished with lounge chairs and a small dining table—perfect for the whole family to enjoy the morning ocean breeze.\n",
    "\n",
    "The interior is decorated primarily in ivory white and deep ocean blue. The walls feature 3D metallic lobster sculptures, the bathroom is fitted with lobster-shaped faucet fixtures, and the carpet is colored to resemble walking on the ocean floor.\n",
    "\n",
    "Most notably, the children’s room has a full LEGO wall, allowing parents and kids to co-create their own ocean-themed masterpieces. This enhances parent-child interaction and also serves as a unique photo hotspot. It may also attract creatively inclined travelers, even if they’re not traveling with family."
   ]
  },
  {
   "cell_type": "markdown",
   "id": "b458931d",
   "metadata": {},
   "source": [
    "### 2.3  Oceanvores (underserved group)"
   ]
  },
  {
   "cell_type": "markdown",
   "id": "c2016999",
   "metadata": {},
   "source": [
    "This customer group consists of travelers who are passionate about local cuisine but are not satisfied by mainstream cruise ships and are willing to pay a premium for unique dining experiences. Their goal is simple - to enjoy delicious food."
   ]
  },
  {
   "cell_type": "markdown",
   "id": "c36f337e",
   "metadata": {},
   "source": [
    "#### Lobster Starlight Restaurant\n",
    "\n",
    "This is a restaurant located on the ship’s lower deck, surrounded by massive aquariums outfitted with starry-sky lighting that simulates the brilliant starlight beneath the ocean, creating an immersive “underwater dining” atmosphere. The restaurant not only offers high-end, customized cuisine, but guests can also don chef’s attire and, under the chef’s guidance, cook their own meals—enjoying a one-of-a-kind dinner under the night sky with family and friends.\n",
    "\n",
    "Its inspiration comes from the glass-enclosed “Aquadome” on Icon and its signature aquatic performances. The aquarium concept informed the overall layout of the restaurant, while the water shows sparked the idea of another form of parent-child interaction through hands-on cooking.\n",
    "\n",
    "Positioned as another social-media “must-check-in” spot for Lobster Coast Voyage, this underwater restaurant targets guests with a certain level of spending power. Lobster Starlight Restaurant offers diners an exquisite and delicious seafood feast—above all, the lobster dishes must be unique: nowhere else will you taste the signature flavor of Lobster Coast Voyage, making the lobster the “must-order delicacy” at Lobster Starlight. Moreover, every table that orders lobster receives a keepsake crafted from that lobster’s shell (for example, a keychain). This not only reinforces the bond between diners and Lobster Starlight Restaurant but also guarantees a truly one-of-a-kind souvenir, greatly enhancing its appeal to guests."
   ]
  },
  {
   "cell_type": "markdown",
   "id": "5b42ee88",
   "metadata": {},
   "source": [
    "## “One Lobster. One Memory. A Starry Feast Like No Other.”"
   ]
  },
  {
   "cell_type": "markdown",
   "id": "d5a120d5",
   "metadata": {},
   "source": [
    "Among the three experiences, Lobster Starlight Restaurant is the most suitable to be included in the marketing brochure. Compared to the other two experiences, this underwater restaurant perfectly connects the values of our three target customer segments to the Lobster Land brand.\n",
    "\n",
    "For Influencers, the words \"Starry\" and \"Starlight\" convey a dreamy, high-end visual appeal. Paired with the massive aquariums and lighting installations, it offers ideal photo and video opportunities. Moreover, the concept of \"dining under the stars\" itself is inherently trendy, making it an easy conversation starter and a potential viral social media hotspot. It aligns perfectly with their desire for unique, aesthetically pleasing, and shareable content.\n",
    "\n",
    "For Familists, \"Starry\" evokes feelings of warmth, romance, and a fairytale-like atmosphere, making it perfect for family experiences with children. Parents will also be eager to create a distinctive \"memory\" with their kids, strengthening the emotional bond.\n",
    "\n",
    "For Oceanvores, the name itself, featuring \"Lobster,\" immediately captures the attention of seafood lovers who are sensitive to high-quality culinary experiences. Unlike ordinary seafood dining, here they get to enjoy a customized lobster feast under a dreamy starlit sky, offering a fully immersive experience. This meets their desire for a unique, worth-the-price culinary story. The lobster shell keepsake provided after the meal further reinforces their psychological association with a one-of-a-kind dining experience."
   ]
  },
  {
   "cell_type": "markdown",
   "id": "9939927b",
   "metadata": {},
   "source": [
    "## What’s the main tradeoff involved in designing one cruise experience for multiple segments, and how would you manage it?"
   ]
  },
  {
   "cell_type": "markdown",
   "id": "ec83dba2",
   "metadata": {},
   "source": [
    "We believe the main trade-off lies in balancing the needs of different customer segments, followed by the coordination between passenger ticket prices and operating costs.\n",
    "\n",
    "However, from the beginning, we identified a shared core value for the three customer segments and all experiences—“Influencer Marketing.” When selecting routes, we simply need to choose those that are “visually appealing,” “distinctive,” and “unique.” This approach will not go wrong.\n",
    "\n",
    "Regarding operating costs resulting from ticket prices and route lengths, we can introduce both short routes (3–5 days) and long routes (7+ days). Short routes would primarily focus on passengers seeking influencer-worthy landmarks, while long routes would primarily cater to seafood lovers, offering opportunities to venture into deep-sea areas to catch fresh ingredients."
   ]
  }
 ],
 "metadata": {
  "language_info": {
   "name": "python"
  }
 },
 "nbformat": 4,
 "nbformat_minor": 5
}

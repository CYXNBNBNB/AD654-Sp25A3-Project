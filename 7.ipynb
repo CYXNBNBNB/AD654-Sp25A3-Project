{
 "cells": [
  {
   "cell_type": "markdown",
   "id": "aa7ab6ad",
   "metadata": {},
   "source": [
    "# Lobster Land Internal Strategy Memo"
   ]
  },
  {
   "cell_type": "markdown",
   "id": "af977806",
   "metadata": {},
   "source": [
    "Topic: Lobster Coast Voyage Customer Segmentation and Experience Design Strategy"
   ]
  },
  {
   "cell_type": "markdown",
   "id": "25b9aa1e",
   "metadata": {},
   "source": [
    "Date: April 2024"
   ]
  },
  {
   "cell_type": "markdown",
   "id": "44d4b3d3",
   "metadata": {},
   "source": [
    "## 1. Background"
   ]
  },
  {
   "cell_type": "markdown",
   "id": "fb39c039",
   "metadata": {},
   "source": [
    "Lobster Land is evaluating a short-haul cruise route called “Lobster Coast Voyage” between Portland, ME, and other Atlantic port cities in the U.S. and Canada. Inspired by the scale and segmentation strategy of Icon of the Seas, leadership aims to craft cruise-like experiences that serve multiple guest types and leverage segmentation to drive long-term brand growth."
   ]
  },
  {
   "cell_type": "markdown",
   "id": "2b67a7d6",
   "metadata": {},
   "source": [
    "## 2. Customer segments & tailored experiences"
   ]
  },
  {
   "cell_type": "markdown",
   "id": "a14c0200",
   "metadata": {},
   "source": [
    "### 2.1 Influencers (underserved group)"
   ]
  },
  {
   "cell_type": "markdown",
   "id": "7ab4d661",
   "metadata": {},
   "source": [
    "### 2.2 Family moments"
   ]
  },
  {
   "cell_type": "markdown",
   "id": "b458931d",
   "metadata": {},
   "source": [
    "### 2.3 Seafood lovers (underserved group)"
   ]
  },
  {
   "cell_type": "markdown",
   "id": "c2016999",
   "metadata": {},
   "source": [
    "Passionate seafood culture and cooking aficionados craving immersive marine-culinary experiences, often underserved by big-ship buffet setups."
   ]
  }
 ],
 "metadata": {
  "language_info": {
   "name": "python"
  }
 },
 "nbformat": 4,
 "nbformat_minor": 5
}

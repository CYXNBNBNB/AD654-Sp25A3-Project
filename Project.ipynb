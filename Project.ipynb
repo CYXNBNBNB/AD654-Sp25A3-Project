{
 "cells": [
  {
   "cell_type": "code",
   "execution_count": 3,
   "id": "d1a5ebb5",
   "metadata": {},
   "outputs": [],
   "source": [
    "import pandas as pd\n",
    "import numpy as np\n",
    "import matplotlib.pyplot as plt\n",
    "import seaborn as sns"
   ]
  },
  {
   "cell_type": "markdown",
   "id": "f7459a50",
   "metadata": {},
   "source": [
    "pip install pandas eaborn numpy pjupyter"
   ]
  },
  {
   "cell_type": "markdown",
   "id": "dd42108f",
   "metadata": {},
   "source": [
    "# 1. Data Visualization"
   ]
  },
  {
   "cell_type": "markdown",
   "id": "42aadcc1",
   "metadata": {},
   "source": [
    "# 2. Summary Stats "
   ]
  },
  {
   "cell_type": "markdown",
   "id": "9ef43afe",
   "metadata": {},
   "source": [
    "# 3. Segmentation and Targeting"
   ]
  },
  {
   "cell_type": "markdown",
   "id": "4c41d818",
   "metadata": {},
   "source": [
    "# 4. Conjoint Analysis & Recommendation"
   ]
  },
  {
   "cell_type": "markdown",
   "id": "e9af05a9",
   "metadata": {},
   "source": [
    "# 5. Forecasting Earnings Per Share"
   ]
  },
  {
   "cell_type": "markdown",
   "id": "8197520b",
   "metadata": {},
   "source": [
    "# 6. Classification"
   ]
  },
  {
   "cell_type": "markdown",
   "id": "5ea2c029",
   "metadata": {},
   "source": [
    "# 7. Strategic Memo"
   ]
  },
  {
   "cell_type": "markdown",
   "id": "5c5a5ebf",
   "metadata": {},
   "source": [
    "# 8. A/B Testing"
   ]
  },
  {
   "cell_type": "markdown",
   "id": "9401ccb0",
   "metadata": {},
   "source": [
    "# 9. Conclusions"
   ]
  }
 ],
 "metadata": {
  "kernelspec": {
   "display_name": ".venv",
   "language": "python",
   "name": "python3"
  },
  "language_info": {
   "codemirror_mode": {
    "name": "ipython",
    "version": 3
   },
   "file_extension": ".py",
   "mimetype": "text/x-python",
   "name": "python",
   "nbconvert_exporter": "python",
   "pygments_lexer": "ipython3",
   "version": "3.12.3"
  }
 },
 "nbformat": 4,
 "nbformat_minor": 5
}

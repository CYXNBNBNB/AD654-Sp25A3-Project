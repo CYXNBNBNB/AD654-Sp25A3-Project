{
 "cells": [
  {
   "cell_type": "code",
   "execution_count": 32,
   "id": "d1a5ebb5",
   "metadata": {},
   "outputs": [],
   "source": [
    "import pandas as pd\n",
    "import numpy as np\n",
    "import matplotlib.pyplot as plt\n",
    "import seaborn as sns\n",
    "import statsmodels.api as sm\n",
    "from statsmodels.tsa.arima.model import ARIMA\n",
    "\n",
    "from sklearn.model_selection import train_test_split\n",
    "from sklearn.linear_model import LogisticRegression\n",
    "from sklearn.metrics import classification_report, accuracy_score\n",
    "from sklearn.preprocessing import OneHotEncoder\n",
    "from sklearn.compose import ColumnTransformer\n",
    "from sklearn.pipeline import Pipeline\n",
    "from statsmodels.formula.api import ols\n",
    "from statsmodels.stats.multicomp import pairwise_tukeyhsd\n",
    "from statsmodels.stats.proportion import proportions_ztest"
   ]
  },
  {
   "cell_type": "markdown",
   "id": "dd42108f",
   "metadata": {},
   "source": [
    "# 1. Data Visualization"
   ]
  },
  {
   "cell_type": "markdown",
   "id": "7231ac1e",
   "metadata": {},
   "source": [
    "Here is the link of our dashboard:\n",
    "\n",
    "https://public.tableau.com/app/profile/shangxuan.zhong/viz/AD654-Project_17454516184220/dashboard\n",
    "\n",
    "And also, here is a picture of the whole dashboard."
   ]
  },
  {
   "cell_type": "markdown",
   "id": "027592a6",
   "metadata": {},
   "source": [
    "![dashboard](image/dashboard.png)"
   ]
  },
  {
   "cell_type": "markdown",
   "id": "6c137f4b",
   "metadata": {},
   "source": [
    "To support Lobster Land's exploration into the cruise industry, I've built a dashboard that highlights key trends and operational characteristics across cruise lines. The goal is to provide a clear picture of the landscape, especially as you weigh options like co-sponsoring a cruise, chartering, or eventually operating your own ship out of Portland.\n",
    "\n",
    "One of the main takeaways is the strong link between ship tonnage and passenger capacity, as shown in the Passenger Capacity vs. Tonnage scatter plot. Bigger ships, like those operated by Royal Caribbean and Carnival, can carry more passengers, while luxury lines such as Silversea and Regent Seven Seas intentionally keep their ships smaller for a more exclusive experience. The Average Passenger Density bar chart is especially useful for understanding how much space passengers get. Luxury lines average 50 to 60 tons of ship per passenger, creating a spacious and upscale environment. On the other hand, mass-market lines like Carnival and Royal Caribbean average closer to 36, which supports higher passenger volumes but a less premium feel. When it comes to service, the Crew-to-Passenger Ratio treemap reveals important differences. Norwegian Cruise Line stands out here, with about 5.8 crew members per 100 passengers, pointing to a stronger service orientation compared to others in its class. The Cabins vs. Passengers scatter plot confirms what we'd expect: more passengers generally mean more cabins. But some ships, like Royal Caribbean's Oasis, push passenger numbers higher relative to cabin count, probably by offering more shared or multi-person accommodations.\n",
    "\n",
    "Consequently, for a Maine-based brand with a strong identity and family appeal, I'd recommend exploring vessels similar in size to those used by Oceania, Azamara, or Windstar. These small to mid-sized ships are a good fit for Portland's port infrastructure and offer a higher-end experience without entering the ultra-luxury space. Based on the data, vessels in the 3000 to 7000 ton range that carry 200 to 800 passengers seem ideal. Maintaining a passenger density around 40 to 45 tons per guest, comparable to lines like Holland America, would strike a nice balance between comfort and capacity. Lastly, leveraging Lobster Land's unique branding and Maine heritage could be a real asset. Whether through co-sponsoring themed sailings or testing the waters with a seasonal charter, there's a clear opportunity to carve out a niche that's different from the big players. Starting small lets you gauge interest while building brand equity in the cruise space, without the upfront risk of buying a ship right away."
   ]
  },
  {
   "cell_type": "markdown",
   "id": "42aadcc1",
   "metadata": {},
   "source": [
    "# 2. Summary Stats "
   ]
  },
  {
   "cell_type": "code",
   "execution_count": 3,
   "id": "de3e1c01",
   "metadata": {},
   "outputs": [
    {
     "data": {
      "text/html": [
       "<div>\n",
       "<style scoped>\n",
       "    .dataframe tbody tr th:only-of-type {\n",
       "        vertical-align: middle;\n",
       "    }\n",
       "\n",
       "    .dataframe tbody tr th {\n",
       "        vertical-align: top;\n",
       "    }\n",
       "\n",
       "    .dataframe thead th {\n",
       "        text-align: right;\n",
       "    }\n",
       "</style>\n",
       "<table border=\"1\" class=\"dataframe\">\n",
       "  <thead>\n",
       "    <tr style=\"text-align: right;\">\n",
       "      <th></th>\n",
       "      <th>port_id</th>\n",
       "      <th>port_name</th>\n",
       "      <th>country_or_territory</th>\n",
       "      <th>region</th>\n",
       "      <th>port_type</th>\n",
       "      <th>latitude</th>\n",
       "      <th>longitude</th>\n",
       "      <th>avg_annual_visitors</th>\n",
       "      <th>avg_port_fee_usd</th>\n",
       "      <th>local_attractions_score</th>\n",
       "      <th>avg_customer_satisfaction</th>\n",
       "      <th>excursion_variety_index</th>\n",
       "      <th>avg_disembark_rate</th>\n",
       "      <th>avg_shore_spend_per_passenger</th>\n",
       "      <th>seasonality_score</th>\n",
       "    </tr>\n",
       "  </thead>\n",
       "  <tbody>\n",
       "    <tr>\n",
       "      <th>0</th>\n",
       "      <td>1</td>\n",
       "      <td>Cozumel</td>\n",
       "      <td>Mexico</td>\n",
       "      <td>Western</td>\n",
       "      <td>Private</td>\n",
       "      <td>23.7406</td>\n",
       "      <td>-66.7748</td>\n",
       "      <td>187848</td>\n",
       "      <td>13.75</td>\n",
       "      <td>6</td>\n",
       "      <td>8.23</td>\n",
       "      <td>2</td>\n",
       "      <td>0.82</td>\n",
       "      <td>175.22</td>\n",
       "      <td>0.99</td>\n",
       "    </tr>\n",
       "    <tr>\n",
       "      <th>1</th>\n",
       "      <td>2</td>\n",
       "      <td>Costa Maya</td>\n",
       "      <td>Mexico</td>\n",
       "      <td>Western</td>\n",
       "      <td>Eco/Nature</td>\n",
       "      <td>13.4943</td>\n",
       "      <td>-65.7182</td>\n",
       "      <td>667075</td>\n",
       "      <td>13.77</td>\n",
       "      <td>3</td>\n",
       "      <td>9.74</td>\n",
       "      <td>10</td>\n",
       "      <td>0.52</td>\n",
       "      <td>100.07</td>\n",
       "      <td>0.78</td>\n",
       "    </tr>\n",
       "    <tr>\n",
       "      <th>2</th>\n",
       "      <td>3</td>\n",
       "      <td>Progreso</td>\n",
       "      <td>Mexico</td>\n",
       "      <td>Western</td>\n",
       "      <td>Major</td>\n",
       "      <td>18.9991</td>\n",
       "      <td>-83.1489</td>\n",
       "      <td>177948</td>\n",
       "      <td>12.11</td>\n",
       "      <td>9</td>\n",
       "      <td>8.78</td>\n",
       "      <td>3</td>\n",
       "      <td>0.69</td>\n",
       "      <td>156.40</td>\n",
       "      <td>0.44</td>\n",
       "    </tr>\n",
       "    <tr>\n",
       "      <th>3</th>\n",
       "      <td>4</td>\n",
       "      <td>Belize City</td>\n",
       "      <td>Belize</td>\n",
       "      <td>Western</td>\n",
       "      <td>Private</td>\n",
       "      <td>20.3673</td>\n",
       "      <td>-76.0384</td>\n",
       "      <td>452690</td>\n",
       "      <td>4.53</td>\n",
       "      <td>4</td>\n",
       "      <td>12.50</td>\n",
       "      <td>1</td>\n",
       "      <td>0.81</td>\n",
       "      <td>157.05</td>\n",
       "      <td>0.18</td>\n",
       "    </tr>\n",
       "    <tr>\n",
       "      <th>4</th>\n",
       "      <td>5</td>\n",
       "      <td>Roatán</td>\n",
       "      <td>Honduras</td>\n",
       "      <td>Western</td>\n",
       "      <td>Private</td>\n",
       "      <td>10.8129</td>\n",
       "      <td>-82.1033</td>\n",
       "      <td>549046</td>\n",
       "      <td>17.20</td>\n",
       "      <td>1</td>\n",
       "      <td>6.39</td>\n",
       "      <td>8</td>\n",
       "      <td>0.75</td>\n",
       "      <td>43.05</td>\n",
       "      <td>0.80</td>\n",
       "    </tr>\n",
       "  </tbody>\n",
       "</table>\n",
       "</div>"
      ],
      "text/plain": [
       "   port_id    port_name country_or_territory   region   port_type  latitude  \\\n",
       "0        1      Cozumel               Mexico  Western     Private   23.7406   \n",
       "1        2   Costa Maya               Mexico  Western  Eco/Nature   13.4943   \n",
       "2        3     Progreso               Mexico  Western       Major   18.9991   \n",
       "3        4  Belize City               Belize  Western     Private   20.3673   \n",
       "4        5       Roatán             Honduras  Western     Private   10.8129   \n",
       "\n",
       "   longitude  avg_annual_visitors  avg_port_fee_usd  local_attractions_score  \\\n",
       "0   -66.7748               187848             13.75                        6   \n",
       "1   -65.7182               667075             13.77                        3   \n",
       "2   -83.1489               177948             12.11                        9   \n",
       "3   -76.0384               452690              4.53                        4   \n",
       "4   -82.1033               549046             17.20                        1   \n",
       "\n",
       "   avg_customer_satisfaction  excursion_variety_index  avg_disembark_rate  \\\n",
       "0                       8.23                        2                0.82   \n",
       "1                       9.74                       10                0.52   \n",
       "2                       8.78                        3                0.69   \n",
       "3                      12.50                        1                0.81   \n",
       "4                       6.39                        8                0.75   \n",
       "\n",
       "   avg_shore_spend_per_passenger  seasonality_score  \n",
       "0                         175.22               0.99  \n",
       "1                         100.07               0.78  \n",
       "2                         156.40               0.44  \n",
       "3                         157.05               0.18  \n",
       "4                          43.05               0.80  "
      ]
     },
     "execution_count": 3,
     "metadata": {},
     "output_type": "execute_result"
    }
   ],
   "source": [
    "df = pd.read_csv(\"data/caribbean_ports.csv\")\n",
    "df.head()"
   ]
  },
  {
   "cell_type": "code",
   "execution_count": 4,
   "id": "f8f6bee2",
   "metadata": {},
   "outputs": [
    {
     "data": {
      "text/html": [
       "<div>\n",
       "<style scoped>\n",
       "    .dataframe tbody tr th:only-of-type {\n",
       "        vertical-align: middle;\n",
       "    }\n",
       "\n",
       "    .dataframe tbody tr th {\n",
       "        vertical-align: top;\n",
       "    }\n",
       "\n",
       "    .dataframe thead th {\n",
       "        text-align: right;\n",
       "    }\n",
       "</style>\n",
       "<table border=\"1\" class=\"dataframe\">\n",
       "  <thead>\n",
       "    <tr style=\"text-align: right;\">\n",
       "      <th></th>\n",
       "      <th>port_id</th>\n",
       "      <th>latitude</th>\n",
       "      <th>longitude</th>\n",
       "      <th>avg_annual_visitors</th>\n",
       "      <th>avg_port_fee_usd</th>\n",
       "      <th>local_attractions_score</th>\n",
       "      <th>avg_customer_satisfaction</th>\n",
       "      <th>excursion_variety_index</th>\n",
       "      <th>avg_disembark_rate</th>\n",
       "      <th>avg_shore_spend_per_passenger</th>\n",
       "      <th>seasonality_score</th>\n",
       "    </tr>\n",
       "  </thead>\n",
       "  <tbody>\n",
       "    <tr>\n",
       "      <th>count</th>\n",
       "      <td>50.00000</td>\n",
       "      <td>50.000000</td>\n",
       "      <td>50.000000</td>\n",
       "      <td>50.000000</td>\n",
       "      <td>50.000000</td>\n",
       "      <td>50.000000</td>\n",
       "      <td>50.00000</td>\n",
       "      <td>50.000000</td>\n",
       "      <td>50.000000</td>\n",
       "      <td>50.000000</td>\n",
       "      <td>50.000000</td>\n",
       "    </tr>\n",
       "    <tr>\n",
       "      <th>mean</th>\n",
       "      <td>25.50000</td>\n",
       "      <td>18.470906</td>\n",
       "      <td>-72.804902</td>\n",
       "      <td>706128.640000</td>\n",
       "      <td>10.706200</td>\n",
       "      <td>4.440000</td>\n",
       "      <td>8.19820</td>\n",
       "      <td>5.980000</td>\n",
       "      <td>0.764000</td>\n",
       "      <td>112.894200</td>\n",
       "      <td>0.566200</td>\n",
       "    </tr>\n",
       "    <tr>\n",
       "      <th>std</th>\n",
       "      <td>14.57738</td>\n",
       "      <td>5.560868</td>\n",
       "      <td>7.250157</td>\n",
       "      <td>451773.228146</td>\n",
       "      <td>5.430777</td>\n",
       "      <td>2.865417</td>\n",
       "      <td>1.27086</td>\n",
       "      <td>3.040475</td>\n",
       "      <td>0.165603</td>\n",
       "      <td>58.994124</td>\n",
       "      <td>0.284461</td>\n",
       "    </tr>\n",
       "    <tr>\n",
       "      <th>min</th>\n",
       "      <td>1.00000</td>\n",
       "      <td>10.096600</td>\n",
       "      <td>-84.364500</td>\n",
       "      <td>71959.000000</td>\n",
       "      <td>-3.500000</td>\n",
       "      <td>1.000000</td>\n",
       "      <td>6.12000</td>\n",
       "      <td>1.000000</td>\n",
       "      <td>0.510000</td>\n",
       "      <td>-45.000000</td>\n",
       "      <td>0.110000</td>\n",
       "    </tr>\n",
       "    <tr>\n",
       "      <th>25%</th>\n",
       "      <td>13.25000</td>\n",
       "      <td>13.441650</td>\n",
       "      <td>-79.151925</td>\n",
       "      <td>276104.750000</td>\n",
       "      <td>5.802500</td>\n",
       "      <td>2.250000</td>\n",
       "      <td>7.37250</td>\n",
       "      <td>4.000000</td>\n",
       "      <td>0.640000</td>\n",
       "      <td>56.592500</td>\n",
       "      <td>0.350000</td>\n",
       "    </tr>\n",
       "  </tbody>\n",
       "</table>\n",
       "</div>"
      ],
      "text/plain": [
       "        port_id   latitude  longitude  avg_annual_visitors  avg_port_fee_usd  \\\n",
       "count  50.00000  50.000000  50.000000            50.000000         50.000000   \n",
       "mean   25.50000  18.470906 -72.804902        706128.640000         10.706200   \n",
       "std    14.57738   5.560868   7.250157        451773.228146          5.430777   \n",
       "min     1.00000  10.096600 -84.364500         71959.000000         -3.500000   \n",
       "25%    13.25000  13.441650 -79.151925        276104.750000          5.802500   \n",
       "\n",
       "       local_attractions_score  avg_customer_satisfaction  \\\n",
       "count                50.000000                   50.00000   \n",
       "mean                  4.440000                    8.19820   \n",
       "std                   2.865417                    1.27086   \n",
       "min                   1.000000                    6.12000   \n",
       "25%                   2.250000                    7.37250   \n",
       "\n",
       "       excursion_variety_index  avg_disembark_rate  \\\n",
       "count                50.000000           50.000000   \n",
       "mean                  5.980000            0.764000   \n",
       "std                   3.040475            0.165603   \n",
       "min                   1.000000            0.510000   \n",
       "25%                   4.000000            0.640000   \n",
       "\n",
       "       avg_shore_spend_per_passenger  seasonality_score  \n",
       "count                      50.000000          50.000000  \n",
       "mean                      112.894200           0.566200  \n",
       "std                        58.994124           0.284461  \n",
       "min                       -45.000000           0.110000  \n",
       "25%                        56.592500           0.350000  "
      ]
     },
     "execution_count": 4,
     "metadata": {},
     "output_type": "execute_result"
    }
   ],
   "source": [
    "df.describe()\n",
    "summary_stats = df.describe()\n",
    "summary_stats.head()"
   ]
  },
  {
   "cell_type": "code",
   "execution_count": 5,
   "id": "fa027575",
   "metadata": {},
   "outputs": [
    {
     "name": "stdout",
     "output_type": "stream",
     "text": [
      "country_or_territory\n",
      "Sint Maarten           1.413453e+06\n",
      "Venezuela              1.282310e+06\n",
      "Trinidad and Tobago    1.191840e+06\n",
      "Dominican Republic     1.170601e+06\n",
      "Curaçao                8.631680e+05\n",
      "Name: avg_annual_visitors, dtype: float64\n"
     ]
    }
   ],
   "source": [
    "#  Average annual visitors by country\n",
    "avg_visitors_by_country = df.groupby(\"country_or_territory\")[\"avg_annual_visitors\"].mean().sort_values(ascending=False)\n",
    "top_visitors_by_country = avg_visitors_by_country.head(5)\n",
    "print(top_visitors_by_country)"
   ]
  },
  {
   "cell_type": "code",
   "execution_count": 6,
   "id": "7732d269",
   "metadata": {},
   "outputs": [
    {
     "name": "stdout",
     "output_type": "stream",
     "text": [
      "region\n",
      "Eastern     16\n",
      "Western     15\n",
      "Southern    11\n",
      "Bahamas      8\n",
      "Name: count, dtype: int64\n"
     ]
    }
   ],
   "source": [
    "#top regions by number of ports\n",
    "port_count_by_region = df[\"region\"].value_counts()\n",
    "top_regions_by_port_count = port_count_by_region.head(5)\n",
    "print(top_regions_by_port_count)"
   ]
  },
  {
   "cell_type": "code",
   "execution_count": 7,
   "id": "76300db8",
   "metadata": {},
   "outputs": [
    {
     "name": "stdout",
     "output_type": "stream",
     "text": [
      "port_type    Boutique  Eco/Nature    Major   Private\n",
      "region                                              \n",
      "Bahamas    186.245000         NaN  169.630   57.4660\n",
      "Eastern    128.746667     118.345  119.224   96.6700\n",
      "Southern   116.062500     103.258      NaN  103.2800\n",
      "Western     47.755000     130.622  117.695  130.7475\n"
     ]
    }
   ],
   "source": [
    "#pivot table\n",
    "pivot_table = pd.pivot_table(\n",
    "    df,\n",
    "    values=\"avg_shore_spend_per_passenger\",\n",
    "    index=\"region\",\n",
    "    columns=\"port_type\",\n",
    "    aggfunc=\"mean\"\n",
    ")\n",
    "\n",
    "print(pivot_table)"
   ]
  },
  {
   "cell_type": "code",
   "execution_count": 8,
   "id": "5d21432d",
   "metadata": {},
   "outputs": [
    {
     "name": "stdout",
     "output_type": "stream",
     "text": [
      "region\n",
      "Bahamas     8.380000\n",
      "Eastern     8.316875\n",
      "Western     8.156000\n",
      "Southern    7.950909\n",
      "Name: avg_customer_satisfaction, dtype: float64\n"
     ]
    }
   ],
   "source": [
    "mean_satisfaction = df.groupby(\"region\")[\"avg_customer_satisfaction\"].mean().sort_values(ascending=False)\n",
    "top_satisfaction = mean_satisfaction.head(5)\n",
    "print(top_satisfaction)"
   ]
  },
  {
   "cell_type": "markdown",
   "id": "c07bb118",
   "metadata": {},
   "source": [
    "Sint Maarten and Venezuela attract the highest number of visitors annually, making them ideal targets for focused marketing campaigns to boost brand visibility and tourist engagement. The Eastern and Western Caribbean regions, with the most ports, offer strategic hubs for regional promotions and cruise partnerships. The high passenger spending at Boutique ports in the Bahamas suggests a great opportunity for marketing premium experiences and upscale excursions. Additionally, with customer satisfaction highest in the Bahamas and Eastern region, marketing efforts can highlight these areas as top-rated destinations, using positive reviews to attract more travelers."
   ]
  },
  {
   "cell_type": "markdown",
   "id": "9ef43afe",
   "metadata": {},
   "source": [
    "# 3. Segmentation and Targeting"
   ]
  },
  {
   "cell_type": "markdown",
   "id": "4c41d818",
   "metadata": {},
   "source": [
    "# 4. Conjoint Analysis & Recommendation"
   ]
  },
  {
   "cell_type": "code",
   "execution_count": 10,
   "id": "acb50ea0",
   "metadata": {},
   "outputs": [
    {
     "name": "stdout",
     "output_type": "stream",
     "text": [
      "Voyage Options Data:\n",
      "     entertainment                                    dining  \\\n",
      "0  East Coast Folk  Maine Lobster Nova Scotia Seafood Buffet   \n",
      "1  East Coast Folk  Maine Lobster Nova Scotia Seafood Buffet   \n",
      "2  East Coast Folk  Maine Lobster Nova Scotia Seafood Buffet   \n",
      "3  East Coast Folk  Maine Lobster Nova Scotia Seafood Buffet   \n",
      "4  East Coast Folk  Maine Lobster Nova Scotia Seafood Buffet   \n",
      "\n",
      "                 cabin            amenities  cocktail_credits  avg_rating  \n",
      "0  Cozy with Fireplace    Top Deck Hot Tubs                 1    8.313079  \n",
      "1  Cozy with Fireplace    Top Deck Hot Tubs                 2    9.435885  \n",
      "2  Cozy with Fireplace    Top Deck Hot Tubs                 3    8.540985  \n",
      "3  Cozy with Fireplace  Winter Wellness Spa                 1    8.415454  \n",
      "4  Cozy with Fireplace  Winter Wellness Spa                 2    9.241294  \n",
      "\n",
      "Vendor Costs Data:\n",
      "                                       Item  Item Category  \\\n",
      "0                           East Coast Folk  entertainment   \n",
      "1                                Jazz Blues  entertainment   \n",
      "2                         Acoustic Showcase  entertainment   \n",
      "3                                  DJ Dance  entertainment   \n",
      "4  Maine Lobster Nova Scotia Seafood Buffet         dining   \n",
      "\n",
      "   Cost Per Passenger (Dollars)  \n",
      "0                          25.0  \n",
      "1                          19.0  \n",
      "2                          12.0  \n",
      "3                           9.0  \n",
      "4                          24.0  \n"
     ]
    }
   ],
   "source": [
    "# Load the data\n",
    "voyage_options = pd.read_csv('data/voyage_options.csv')\n",
    "vendor_costs = pd.read_csv('data/vendor_costs_654.csv')\n",
    "\n",
    "# Display basic info about the data\n",
    "print(\"Voyage Options Data:\")\n",
    "print(voyage_options.head())\n",
    "print(\"\\nVendor Costs Data:\")\n",
    "print(vendor_costs.head())"
   ]
  },
  {
   "cell_type": "code",
   "execution_count": 12,
   "id": "ced60577",
   "metadata": {},
   "outputs": [
    {
     "name": "stdout",
     "output_type": "stream",
     "text": [
      "\n",
      "Part-worth utilities (coefficients):\n",
      "cocktail_credits                                  -0.266540\n",
      "entertainment_Acoustic Showcase                    0.838775\n",
      "entertainment_DJ_Dance                             0.140997\n",
      "entertainment_East Coast Folk                      1.283075\n",
      "entertainment_Jazz Blues                           1.194150\n",
      "dining_Casual Fireside Grill with Hot Cider        0.608897\n",
      "dining_Coastal Tapas & Tasting Stations            0.901833\n",
      "dining_Formal Multi-Course Plated                 -0.159852\n",
      "dining_Maine Lobster Nova Scotia Seafood Buffet    2.106119\n",
      "cabin_Cozy with Fireplace                          0.890427\n",
      "cabin_Modern Minimalist                            0.440748\n",
      "cabin_Nautical Chic                                1.202862\n",
      "cabin_Romantic Escape                              0.922960\n",
      "amenities_Fireside Live Music                      0.825440\n",
      "amenities_Top Deck Hot Tubs                        1.728434\n",
      "amenities_Winter Wellness Spa                      0.903123\n",
      "dtype: float64\n",
      "\n",
      "Attribute Importance (%):\n",
      "{'entertainment': np.float64(7.923264368676969), 'dining': np.float64(15.720368723018808), 'cabin': np.float64(5.287237176968122), 'amenities': np.float64(6.264594739308276), 'cocktail_credits': np.float64(0.0)}\n"
     ]
    }
   ],
   "source": [
    "# Prepare data for conjoint analysis\n",
    "features = ['entertainment', 'dining', 'cabin', 'amenities', 'cocktail_credits']\n",
    "X = pd.get_dummies(voyage_options[features], drop_first=False)\n",
    "\n",
    "# Convert to numpy arrays to avoid dtype issues\n",
    "X = X.astype(float)  \n",
    "y = voyage_options['avg_rating'].values  \n",
    "\n",
    "# Add constant term\n",
    "X = sm.add_constant(X)\n",
    "\n",
    "# Fit linear regression model for conjoint analysis\n",
    "model = sm.OLS(y, X).fit()\n",
    "\n",
    "# Get part-worth utilities (coefficients)\n",
    "part_worth = model.params[1:]  # Exclude the constant term\n",
    "print(\"\\nPart-worth utilities (coefficients):\")\n",
    "print(part_worth)\n",
    "\n",
    "# Calculate importance of each attribute\n",
    "importance = {}\n",
    "for feature in features:\n",
    "    col_mask = part_worth.index.str.startswith(feature)\n",
    "    importance[feature] = (part_worth[col_mask].max() - part_worth[col_mask].min()) / part_worth.abs().sum() * 100\n",
    "\n",
    "print(\"\\nAttribute Importance (%):\")\n",
    "print(importance)"
   ]
  },
  {
   "cell_type": "code",
   "execution_count": 13,
   "id": "223b7614",
   "metadata": {},
   "outputs": [
    {
     "name": "stdout",
     "output_type": "stream",
     "text": [
      "\n",
      "Best Combination Within Budget:\n",
      "entertainment                          Acoustic Showcase\n",
      "dining              Casual Fireside Grill with Hot Cider\n",
      "cabin                                    Romantic Escape\n",
      "amenities                              Top Deck Hot Tubs\n",
      "cocktail_credits                                       3\n",
      "Name: 416, dtype: object\n",
      "Predicted Rating: 9.98\n",
      "Total Cost per Passenger: $66.75\n"
     ]
    }
   ],
   "source": [
    "# Find the best combination within budget\n",
    "# First create a cost mapping dictionary\n",
    "cost_map = {}\n",
    "for _, row in vendor_costs.iterrows():\n",
    "    if row['Item Category'] == 'cocktail':\n",
    "        key = f\"{row['Item'].split()[0]} cocktail tickets per passenger\"\n",
    "    else:\n",
    "        # Handle special cases where names don't match exactly\n",
    "        if row['Item'] == 'DJ Dance':  \n",
    "            key = 'DJ_Dance'\n",
    "        else:\n",
    "            key = row['Item']\n",
    "    cost_map[key] = row['Cost Per Passenger (Dollars)']\n",
    "\n",
    "# Evaluate all possible combinations\n",
    "best_rating = 0\n",
    "best_combo = None\n",
    "best_cost = 0\n",
    "\n",
    "# Iterate through all unique combinations in the dataset\n",
    "for _, row in voyage_options.drop_duplicates(subset=features).iterrows():\n",
    "    # Calculate total cost\n",
    "    cost = (cost_map[row['entertainment']] + \n",
    "            cost_map[row['dining']] + \n",
    "            cost_map[row['cabin']] + \n",
    "            cost_map[row['amenities']] + \n",
    "            cost_map[f\"{row['cocktail_credits']} cocktail tickets per passenger\"])\n",
    "        \n",
    "    # Check if within budget\n",
    "    if cost <= 75:\n",
    "        # Get predicted rating\n",
    "        rating = row['avg_rating']\n",
    "        if rating > best_rating:\n",
    "            best_rating = rating\n",
    "            best_combo = row[features]\n",
    "            best_cost = cost\n",
    "    continue\n",
    "\n",
    "# Display the best combination\n",
    "print(\"\\nBest Combination Within Budget:\")\n",
    "print(best_combo)\n",
    "print(f\"Predicted Rating: {best_rating:.2f}\")\n",
    "print(f\"Total Cost per Passenger: ${best_cost:.2f}\")"
   ]
  },
  {
   "cell_type": "code",
   "execution_count": 14,
   "id": "19fa6d07",
   "metadata": {},
   "outputs": [
    {
     "name": "stdout",
     "output_type": "stream",
     "text": [
      "\n",
      "Top 3 Combinations Within Budget:\n",
      "\n",
      "Option 1:\n",
      "Entertainment: Acoustic Showcase\n",
      "Dining: Casual Fireside Grill with Hot Cider\n",
      "Cabin: Romantic Escape\n",
      "Amenities: Top Deck Hot Tubs\n",
      "Cocktail Credits: 3\n",
      "Rating: 9.98\n",
      "Cost: $66.75\n",
      "\n",
      "Option 2:\n",
      "Entertainment: Jazz Blues\n",
      "Dining: Casual Fireside Grill with Hot Cider\n",
      "Cabin: Cozy with Fireplace\n",
      "Amenities: Top Deck Hot Tubs\n",
      "Cocktail Credits: 1\n",
      "Rating: 9.95\n",
      "Cost: $62.75\n",
      "\n",
      "Option 3:\n",
      "Entertainment: DJ_Dance\n",
      "Dining: Maine Lobster Nova Scotia Seafood Buffet\n",
      "Cabin: Nautical Chic\n",
      "Amenities: Top Deck Hot Tubs\n",
      "Cocktail Credits: 2\n",
      "Rating: 9.94\n",
      "Cost: $69.50\n"
     ]
    }
   ],
   "source": [
    "# Get the top 3 combinations within budget\n",
    "top_combinations = []\n",
    "for _, row in voyage_options.sort_values('avg_rating', ascending=False).iterrows():\n",
    "    cost = (cost_map[row['entertainment']] + \n",
    "            cost_map[row['dining']] + \n",
    "            cost_map[row['cabin']] + \n",
    "            cost_map[row['amenities']] + \n",
    "            cost_map[f\"{row['cocktail_credits']} cocktail tickets per passenger\"])\n",
    "    \n",
    "    if cost <= 75:\n",
    "        combo_info = {\n",
    "            'entertainment': row['entertainment'],\n",
    "            'dining': row['dining'],\n",
    "            'cabin': row['cabin'],\n",
    "            'amenities': row['amenities'],\n",
    "            'cocktail_credits': row['cocktail_credits'],\n",
    "            'rating': row['avg_rating'],\n",
    "            'cost': cost\n",
    "        }\n",
    "        top_combinations.append(combo_info)\n",
    "        if len(top_combinations) >= 3:\n",
    "            break\n",
    "\n",
    "print(\"\\nTop 3 Combinations Within Budget:\")\n",
    "for i, combo in enumerate(top_combinations, 1):\n",
    "    print(f\"\\nOption {i}:\")\n",
    "    print(f\"Entertainment: {combo['entertainment']}\")\n",
    "    print(f\"Dining: {combo['dining']}\")\n",
    "    print(f\"Cabin: {combo['cabin']}\")\n",
    "    print(f\"Amenities: {combo['amenities']}\")\n",
    "    print(f\"Cocktail Credits: {combo['cocktail_credits']}\")\n",
    "    print(f\"Rating: {combo['rating']:.2f}\")\n",
    "    print(f\"Cost: ${combo['cost']:.2f}\")"
   ]
  },
  {
   "cell_type": "markdown",
   "id": "4bf06063",
   "metadata": {},
   "source": [
    "After carefully analyzing passenger ratings and cost data, we found several great  patterns for Lobsterland's voyage packages. The conjoint analysis reveals that dining experience carries the most weight in determining overall satisfaction (15.7% importance), followed by entertainment (7.9%) and amenities (6.3%). Interestingly, the number of cocktail credits showed negligible impact on ratings, though it does affect costs.\n",
    "\n",
    "The standout recommendation is the Best Combination (Option 1), what I'd call the \"Premium Experience\" at $66.75 per passenger. This combines the Acoustic Showcase entertainment with the Casual Fireside Grill dining option, Romantic Escape cabins, and Top Deck Hot Tubs. It achieves the highest predicted rating of 9.98 while staying well under budget. The acoustic entertainment provides sophisticated ambiance without the higher cost of jazz bands, while the fireside grill creates a cozy social atmosphere that guests clearly love based on the ratings.\n",
    "\n",
    "For more budget-conscious options, Option 2 at $62.75 offers excellent value. Switching to Jazz Blues entertainment and Cozy Fireplace cabins maintains a 9.95 rating while saving $4 per passenger. This could be positioned as our \"Standard\" offering. Meanwhile, Option 3 at $69.50 caters specifically to seafood lovers with the Maine Lobster buffet, making it our \"Gourmet\" option.\n",
    "\n",
    "What's particularly interesting is how certain combinations outperform expectations. The Top Deck Hot Tubs consistently appear in top-rated packages, suggesting guests highly value this unique experience of stargazing while soaking. The Romantic Escape cabins also punch above their weight in terms of cost-to-satisfaction ratio.\n",
    "\n",
    "I'd recommend focusing on Option 1 as the flagship offering, with Option 2 and 3 as alternatives. And we could further enhance the experience by adding small touches like live acoustic music near the hot tubs or complimentary photo services for romantic cabins, relatively low-cost additions that could boost perceived value. The cocktail credits could potentially be reduced from 3 to 2 per passenger with minimal impact on satisfaction, yielding additional savings.\n",
    "\n",
    "All these recommendations balance exceptional guest experiences with smart cost management, and all while staying well below the $75 per passenger threshold. Because the data clearly shows that we don't need to spend to the maximum budget to achieve top-tier ratings, the key is in the strategic combination of elements."
   ]
  },
  {
   "cell_type": "markdown",
   "id": "e9af05a9",
   "metadata": {},
   "source": [
    "# 5. Forecasting Earnings Per Share"
   ]
  },
  {
   "cell_type": "markdown",
   "id": "554db580",
   "metadata": {},
   "source": [
    "Here are the websites we find the datafrom:\n",
    "\n",
    "https://www.macrotrends.net/stocks/charts/NCLH/norwegian-cruise-line-holdings/eps-earnings-per-share-diluted\n",
    "\n",
    "https://www.macrotrends.net/stocks/charts/CCL/carnival/eps-earnings-per-share-diluted"
   ]
  },
  {
   "cell_type": "code",
   "execution_count": 16,
   "id": "031d2144",
   "metadata": {},
   "outputs": [
    {
     "name": "stdout",
     "output_type": "stream",
     "text": [
      "NCLH 2025 EPS Forecast (ARIMA): 0.58\n",
      "CCL 2025 EPS Forecast (ARIMA): 0.65\n"
     ]
    },
    {
     "name": "stderr",
     "output_type": "stream",
     "text": [
      "/tmp/ipykernel_6455/762066176.py:7: FutureWarning: 'A' is deprecated and will be removed in a future version, please use 'Y' instead.\n",
      "  index = pd.period_range(start='2010', periods=len(years), freq='A')\n"
     ]
    }
   ],
   "source": [
    "# Define the years and corresponding EPS data for NCLH and CCL\n",
    "years = list(range(2010, 2025))\n",
    "nclh_eps = [0.13, 0.71, 0.94, 0.49, 1.62, 1.86, 2.78, 3.31, 4.25, 4.30, -15.75, -12.33, -5.41, 0.39, 1.89]\n",
    "ccl_eps = [2.47, 2.42, 1.67, 1.36, 1.56, 2.26, 3.72, 3.59, 4.44, 4.32, -13.20, -8.46, -5.16, -0.06, 1.44]\n",
    "\n",
    "# Create PeriodIndex for annual frequency\n",
    "index = pd.period_range(start='2010', periods=len(years), freq='A')\n",
    "\n",
    "# Create pandas Series with the EPS data\n",
    "nclh_series = pd.Series(nclh_eps, index=index)\n",
    "ccl_series = pd.Series(ccl_eps, index=index)\n",
    "\n",
    "# Fit ARIMA models with specified parameters\n",
    "model_nclh = ARIMA(nclh_series, order=(1, 1, 1), enforce_stationarity=False, enforce_invertibility=False)\n",
    "result_nclh = model_nclh.fit()\n",
    "\n",
    "model_ccl = ARIMA(ccl_series, order=(1, 1, 1), enforce_stationarity=False, enforce_invertibility=False)\n",
    "result_ccl = model_ccl.fit()\n",
    "\n",
    "# Forecast EPS for 2025\n",
    "forecast_nclh = result_nclh.forecast(steps=1)\n",
    "forecast_ccl = result_ccl.forecast(steps=1)\n",
    "\n",
    "# Output the forecasts\n",
    "print(f\"NCLH 2025 EPS Forecast (ARIMA): {forecast_nclh.values[0]:.2f}\")\n",
    "print(f\"CCL 2025 EPS Forecast (ARIMA): {forecast_ccl.values[0]:.2f}\")"
   ]
  },
  {
   "cell_type": "markdown",
   "id": "34e40fbf",
   "metadata": {},
   "source": [
    "To forecast the 2025 Earnings Per Share (EPS) for Norwegian Cruise Line Holdings (NCLH) and Carnival Corporation (CCL), we utilized historical annual EPS data from 2010 to 2024, sourced from MacroTrends. We applied the ARIMA model, a widely used time series forecasting method, to predict the next year's EPS for each company. The data were structured using a PeriodIndex with annual frequency to ensure proper time series alignment. PeriodIndex represents a period of time, instead of a specific point in time. So that our model would know the data is organized by consistent time intervals. As the data for 2020-2022 receives the impact of the global epidemic of COVID-19, the global economy forms a recession, causing the share prices of many large companies to plummet. Thus, to accommodate potential non-stationarity and non-invertibility in the data, the ARIMA models were configured with enforce_stationarity=False and enforce_invertibility=False. After fitting the models, we generated one-step-ahead forecasts for the year 2025. The projected EPS for 2025 are as follows:\n",
    "\n",
    "NCLH 2025 EPS Forecast (ARIMA): 0.58\n",
    "\n",
    "CCL 2025 EPS Forecast (ARIMA): 0.65\n",
    "\n",
    "These forecasts provide a quantitative basis for anticipating the financial performance of both companies in the upcoming year. "
   ]
  },
  {
   "cell_type": "markdown",
   "id": "8197520b",
   "metadata": {},
   "source": [
    "# 6. Classification"
   ]
  },
  {
   "cell_type": "code",
   "execution_count": 17,
   "id": "9616dbf2",
   "metadata": {},
   "outputs": [],
   "source": [
    "df = pd.read_csv('data/cruise_cancellations.csv')\n",
    "\n",
    "df['loyalty_status'] = df['loyalty_status'].fillna('None')"
   ]
  },
  {
   "cell_type": "markdown",
   "id": "7147d2fe",
   "metadata": {},
   "source": [
    "## logistic regression"
   ]
  },
  {
   "cell_type": "code",
   "execution_count": null,
   "id": "eee60e68",
   "metadata": {},
   "outputs": [
    {
     "name": "stdout",
     "output_type": "stream",
     "text": [
      "No significant multicollinearity.\n",
      "\n",
      "Accuracy: 0.6925\n",
      "\n",
      "Classification Report:\n",
      "               precision    recall  f1-score   support\n",
      "\n",
      "           0       0.86      0.68      0.76       284\n",
      "           1       0.48      0.72      0.58       116\n",
      "\n",
      "    accuracy                           0.69       400\n",
      "   macro avg       0.67      0.70      0.67       400\n",
      "weighted avg       0.75      0.69      0.71       400\n",
      "\n"
     ]
    },
    {
     "name": "stderr",
     "output_type": "stream",
     "text": [
      "/home/ethanchen/AD654-Sp25A3-Project/.venv/lib/python3.12/site-packages/sklearn/linear_model/_logistic.py:465: ConvergenceWarning: lbfgs failed to converge (status=1):\n",
      "STOP: TOTAL NO. OF ITERATIONS REACHED LIMIT.\n",
      "\n",
      "Increase the number of iterations (max_iter) or scale the data as shown in:\n",
      "    https://scikit-learn.org/stable/modules/preprocessing.html\n",
      "Please also refer to the documentation for alternative solver options:\n",
      "    https://scikit-learn.org/stable/modules/linear_model.html#logistic-regression\n",
      "  n_iter_i = _check_optimize_result(\n"
     ]
    }
   ],
   "source": [
    "features = [\n",
    "    'age', 'booking_lead_time', 'trip_length', 'cabin_type', 'group_size', \n",
    "    'loyalty_status', 'paid_in_full', 'prior_cruises', 'customer_income', \n",
    "    'email_engagement_score', 'phone_verified', 'has_insurance', \n",
    "    'on_mailing_list', 'website_visits_last_month', 'survey_participation', \n",
    "    'preferred_contact_method', 'travel_history_score', 'referral_source', \n",
    "    'gift_certificate_used'\n",
    "]\n",
    "target = 'canceled'\n",
    "\n",
    "X = df[features]\n",
    "y = df[target]\n",
    "\n",
    "categorical_cols = ['cabin_type', 'loyalty_status', 'survey_participation', 'preferred_contact_method', 'referral_source']\n",
    "numeric_cols = ['age', 'booking_lead_time', 'trip_length', 'group_size', 'paid_in_full', 'prior_cruises', \n",
    "                'customer_income', 'email_engagement_score', 'phone_verified', 'has_insurance', \n",
    "                'on_mailing_list', 'website_visits_last_month', 'travel_history_score', 'gift_certificate_used']\n",
    "\n",
    "numeric_transformer = 'passthrough'\n",
    "categorical_transformer = OneHotEncoder(handle_unknown='ignore')\n",
    "\n",
    "preprocessor = ColumnTransformer(\n",
    "    transformers=[\n",
    "        ('num', numeric_transformer, numeric_cols),\n",
    "        ('cat', categorical_transformer, categorical_cols)\n",
    "    ])\n",
    "\n",
    "lr_balanced_model = LogisticRegression(max_iter=1000, class_weight='balanced') \n",
    "\n",
    "pipeline_balanced = Pipeline(steps=[\n",
    "    ('preprocessor', preprocessor),\n",
    "    ('classifier', lr_balanced_model)\n",
    "])\n",
    "\n",
    "X_train, X_test, y_train, y_test = train_test_split(X, y, test_size=0.2, random_state=654)\n",
    "\n",
    "threshold = 0.8\n",
    "\n",
    "X_train_transformed = preprocessor.fit_transform(X_train)\n",
    "corr_matrix = pd.DataFrame(X_train_transformed).corr()\n",
    "\n",
    "high_corr_pairs = []\n",
    "\n",
    "for i in range(len(corr_matrix.columns)):\n",
    "    for j in range(i):\n",
    "        if abs(corr_matrix.iloc[i, j]) > threshold:\n",
    "            high_corr_pairs.append((corr_matrix.columns[i], corr_matrix.columns[j], corr_matrix.iloc[i, j]))\n",
    "\n",
    "if high_corr_pairs:\n",
    "    for pair in high_corr_pairs:\n",
    "        print(f\"Feature pair: {pair[0]} and {pair[1]} - Correlation: {pair[2]}\")\n",
    "else:\n",
    "    print(\"No significant multicollinearity.\\n\")\n",
    "\n",
    "\n",
    "pipeline_balanced.fit(X_train, y_train)\n",
    "\n",
    "y_pred_balanced = pipeline_balanced.predict(X_test)\n",
    "\n",
    "print(\"Accuracy:\", accuracy_score(y_test, y_pred_balanced))\n",
    "print(\"\\nClassification Report:\\n\", classification_report(y_test, y_pred_balanced))"
   ]
  },
  {
   "cell_type": "markdown",
   "id": "e1d90661",
   "metadata": {},
   "source": [
    "Considering that our main purpose is to understand which type of passengers are most likely to cancel their trips, we used logistic regression with class_weight='balanced' to deal with this problem. As we can see from the results, although the accuracy seems to be a bit low (0.69), the recall is 0.72, which indicates that the new model's ability to recognize “Cancellation (Class 1)” is high enough at 72%."
   ]
  },
  {
   "cell_type": "markdown",
   "id": "5eb9d3e0",
   "metadata": {},
   "source": [
    "## Analysis"
   ]
  },
  {
   "cell_type": "code",
   "execution_count": null,
   "id": "7120a979",
   "metadata": {},
   "outputs": [
    {
     "name": "stderr",
     "output_type": "stream",
     "text": [
      "/home/ethanchen/AD654-Sp25A3-Project/.venv/lib/python3.12/site-packages/sklearn/linear_model/_logistic.py:465: ConvergenceWarning: lbfgs failed to converge (status=1):\n",
      "STOP: TOTAL NO. OF ITERATIONS REACHED LIMIT.\n",
      "\n",
      "Increase the number of iterations (max_iter) or scale the data as shown in:\n",
      "    https://scikit-learn.org/stable/modules/preprocessing.html\n",
      "Please also refer to the documentation for alternative solver options:\n",
      "    https://scikit-learn.org/stable/modules/linear_model.html#logistic-regression\n",
      "  n_iter_i = _check_optimize_result(\n"
     ]
    },
    {
     "data": {
      "image/png": "[encoded data removed]",
      "text/plain": [
       "<Figure size 1000x600 with 1 Axes>"
      ]
     },
     "metadata": {},
     "output_type": "display_data"
    }
   ],
   "source": [
    "lr_balanced_model = LogisticRegression(max_iter=1000, class_weight='balanced')\n",
    "\n",
    "lr_pipeline = Pipeline(steps=[\n",
    "    ('preprocessor', preprocessor),\n",
    "    ('classifier', lr_balanced_model)\n",
    "])\n",
    "\n",
    "lr_pipeline.fit(X_train, y_train)\n",
    "\n",
    "feature_names = lr_pipeline.named_steps['preprocessor'].get_feature_names_out()\n",
    "\n",
    "lr_coef = lr_pipeline.named_steps['classifier'].coef_[0]\n",
    "\n",
    "top_n = 20\n",
    "lr_top_idx = np.argsort(np.abs(lr_coef))[::-1][:top_n]\n",
    "\n",
    "plt.figure(figsize=(10, 6))\n",
    "colors = ['salmon' if coef > 0 else 'skyblue' for coef in lr_coef[lr_top_idx][::-1]]\n",
    "plt.barh(range(top_n), lr_coef[lr_top_idx][::-1], color=colors)\n",
    "plt.yticks(range(top_n), [feature_names[i] for i in lr_top_idx][::-1])\n",
    "plt.axvline(0, color='gray', linestyle='--', linewidth=1)\n",
    "plt.title(\"Top 20 Logistic Regression Coefficients (Impact on Cancellation)\")\n",
    "plt.xlabel(\"Coefficient (positive = more likely to cancel)\")\n",
    "plt.grid(axis='x', linestyle='--', alpha=0.5)\n",
    "plt.tight_layout()\n",
    "plt.show()"
   ]
  },
  {
   "cell_type": "markdown",
   "id": "6a6ec4b6",
   "metadata": {},
   "source": [
    "By analyzing the top 20 most important characteristics provided by the logistic regression, we can see that loyalty status is the most influential variable in the logistic regression, with visitors with a loyalty status of “None” being the most likely to cancel a reservation, while having any kind of loyalty status makes them less likely to cancel a reservation.\n",
    "\n",
    "In addition, whether or not they paid in full is also an important factor, as tourists are very unlikely to cancel a booking if they paid in full.Also, the type of cabin can have an impact. If a visitor has an “Interior” cabin, they are more likely to cancel their booking than visitors with other cabin types.\n",
    "\n",
    "In summary, While there are other factors that come into play, in general, the more money a visitor spends, the less likely they are to cancel a trip; the less money a visitor spends, the more likely they are to cancel a trip."
   ]
  },
  {
   "cell_type": "markdown",
   "id": "756d130c",
   "metadata": {},
   "source": [
    "From the previous analysis, it can be concluded that visitors with the following characteristics are most likely to cancel their bookings:\n",
    "\n",
    "1. No loyalty status.\n",
    "\n",
    "2. Partial payments or lower overall spending.\n",
    "\n",
    "3. Booked in \"Interior\" cabins.\n",
    "\n",
    "4. Budget-conscious or first-time customers.\n",
    "\n",
    "So first, Lobster Land management can flag these groups in the reservation system and prepare ahead of time for the possibility of them canceling.\n",
    "\n",
    "In addition, Lobster Land management should introduce incentives centered on consumer spending to reduce cancellations.\n",
    "\n",
    "As for the loyalty programs, Offering discounts for joining the loyalty program at booking. Reward loyal customers with points for non-cancellation, redeemable for upgrades or discounts on future trips is also a good way.\n",
    "\n",
    "As for the payment strategies, Lobster Land can Offer 5-10% discounts for paying in full upfront, and introduce a small non-refundable deposit for budget bookings to deter cancellations. Such customers often choose not to cancel their reservations due to the sunk costs caused by these non-refundable deposits.\n",
    "\n",
    "As for the cabin type, Lobster Land can provide dynamic offers, give Interior cabin bookers with discounted upgrades to higher-tier cabins closer to the trip date. Also, Lobster Land can provides bundle packages, combining Interior cabins with non-refundable add-ons like dining packages to increase cancellation costs.\n",
    "\n",
    "At the same time, we have found that many of the visitors with a tendency to cancel have verified their phone, got the cruise program primarily through friends, advertisements, or websites, and most have not engaged in customer research. So Lobster Land could upgrade the content of its ads and website by replacing text ads with short videos that show real cruise experiences. In addition, Lobster Land can provide an “invitation code” to visitors who have already purchased a ticket, so that if someone else uses the code, they can receive points, discounts or vouchers. Lobster Land should also conduct more post-cancellation surveys to collect information on the reasons for cancellations."
   ]
  },
  {
   "cell_type": "markdown",
   "id": "5c5a5ebf",
   "metadata": {},
   "source": [
    "# 7. A/B Testing"
   ]
  },
  {
   "cell_type": "code",
   "execution_count": null,
   "id": "8b8a1248",
   "metadata": {},
   "outputs": [
    {
     "name": "stdout",
     "output_type": "stream",
     "text": [
      "Combined Performance Summary:\n",
      "\n",
      "            photo  click_rate  avg_time_on_page\n",
      "0  Caribbean Port    0.267442         23.156202\n",
      "3  Tropical Beach    0.164557         25.955274\n",
      "2      Night Glow    0.108209         22.605970\n",
      "1      City Visit    0.086066         20.731967\n"
     ]
    },
    {
     "data": {
      "image/png": "[encoded data removed]",
      "text/plain": [
       "<Figure size 1000x600 with 1 Axes>"
      ]
     },
     "metadata": {},
     "output_type": "display_data"
    }
   ],
   "source": [
    "df = pd.read_csv(\"data/cruise_pics.csv\")  \n",
    "\n",
    "summary_df = df.groupby(\"photo\").agg({\n",
    "    \"clicked\": \"mean\",\n",
    "    \"time_on_page\": \"mean\"\n",
    "}).reset_index()\n",
    "\n",
    "summary_df.columns = [\"photo\", \"click_rate\", \"avg_time_on_page\"]\n",
    "\n",
    "print(\"Combined Performance Summary:\\n\")\n",
    "print(summary_df.sort_values(by=[\"click_rate\", \"avg_time_on_page\"], ascending=False))\n",
    "\n",
    "plt.figure(figsize=(10, 6))\n",
    "sns.scatterplot(\n",
    "    data=summary_df,\n",
    "    x=\"avg_time_on_page\",\n",
    "    y=\"click_rate\",\n",
    "    hue=\"photo\",\n",
    "    s=200,\n",
    "    style=\"photo\"\n",
    ")\n",
    "plt.title(\"Photo Performance: Click Rate vs. Time on Page\")\n",
    "plt.xlabel(\"Average Time on Page (seconds)\")\n",
    "plt.ylabel(\"Click Rate\")\n",
    "plt.grid(True)\n",
    "plt.tight_layout()\n",
    "plt.show()"
   ]
  },
  {
   "cell_type": "code",
   "execution_count": null,
   "id": "eb689054",
   "metadata": {},
   "outputs": [
    {
     "name": "stdout",
     "output_type": "stream",
     "text": [
      "\n",
      "A/B Test Result:\n",
      "\n",
      "Clicks A (Caribbean Port): 69/258  |  Clicks B (Tropical Beach): 39/237\n",
      "Z-Statistic: 2.7687\n",
      "P-Value: 0.0056\n",
      "Significant difference between A and B (reject H0)\n"
     ]
    }
   ],
   "source": [
    "print(\"\\nA/B Test Result:\\n\")\n",
    "\n",
    "photo_A = \"Caribbean Port\"\n",
    "photo_B = \"Tropical Beach\"  \n",
    "\n",
    "group_A = df[df[\"photo\"] == photo_A]\n",
    "group_B = df[df[\"photo\"] == photo_B]\n",
    "\n",
    "clicks = np.array([group_A[\"clicked\"].sum(), group_B[\"clicked\"].sum()])\n",
    "impressions = np.array([len(group_A), len(group_B)])\n",
    "\n",
    "z_stat, p_value = proportions_ztest(clicks, impressions)\n",
    "\n",
    "print(f\"Clicks A ({photo_A}): {clicks[0]}/{impressions[0]}  |  Clicks B ({photo_B}): {clicks[1]}/{impressions[1]}\")\n",
    "print(f\"Z-Statistic: {z_stat:.4f}\")\n",
    "print(f\"P-Value: {p_value:.4f}\")\n",
    "\n",
    "alpha = 0.05\n",
    "if p_value < alpha:\n",
    "    print(\"Significant difference between A and B (reject H0)\")\n",
    "else:\n",
    "    print(\"No significant difference between A and B (fail to reject H0)\")"
   ]
  },
  {
   "cell_type": "markdown",
   "id": "60d56c20",
   "metadata": {},
   "source": [
    "In order to help Lobster Land decide on the best promotional photo for their cruise campaign, we conducted an A/B/n test with random assignment by email to images and measured two key engagement metrics: click-through rate (CTR) and time on page. Beginning with a one-way ANOVA of time-on-page for the four images, we determined no statistically significant differences were present (p = 0.109). Although, a Chi-square test for binary clicked variable proved that there was substantial difference in the interaction of users with images (p < 0.001). We then graphed both metrics for all images and discovered that \"Caribbean Port\" had highest CTR (26.7%) and that \"Tropical Beach\" had longest mean view duration (26 seconds). Considering both action and attention-based performance, we recommend the best overall single image for the campaign is \"Caribbean Port.\" Not only did it outperform all the others in driving clicks, but it remained competitive in terms of viewing time, and thus it was the best all-around image for engagement."
   ]
  },
  {
   "cell_type": "markdown",
   "id": "9401ccb0",
   "metadata": {},
   "source": [
    "# 8. Conclusions"
   ]
  },
  {
   "cell_type": "markdown",
   "id": "3d1c8b62",
   "metadata": {},
   "source": [
    "In this project, we have learned some useful knowledge about how Lobster Land can strategically expand into the cruise industry. By using the combination of segmentation, conjoint analysis, forecasting, classification, and A/B testing, we could find out trends not only indicating possible customer interests but also delineating main concerns of operations. For example, clustering analysis determined that there are various groups of ports through which various segments of the market can be addressed with tailor-made cruise itineraries, while conjoint analysis indicated that guest experience can significantly be enhanced through well-balancing of top-rated facilities within cost boundaries. Prediction of industry trends and cancelation risk forecasting also worked to reveal the need for Lobster Land to be planning cautiously but intensively.\n",
    "\n",
    "In addition to the specific findings, one overarching lesson from our research is the importance of data-driven flexibility. Regardless of how innovative preliminary ideas may be, passenger preferences, cost of doing business, and market realities can shift quickly. Lobster Land will have to continue to invest in ongoing passenger analytics, iterative testing of in-flight experiences, and responsive marketing strategies to stay competitive. This project also reminded our team how crucial it is to connect quantitative analysis and strategic thinking: numbers are needed but not enough on their own—real value comes in when insights from data get connected to creative, customer-facing decisions."
   ]
  }
 ],
 "metadata": {
  "kernelspec": {
   "display_name": ".venv",
   "language": "python",
   "name": "python3"
  },
  "language_info": {
   "codemirror_mode": {
    "name": "ipython",
    "version": 3
   },
   "file_extension": ".py",
   "mimetype": "text/x-python",
   "name": "python",
   "nbconvert_exporter": "python",
   "pygments_lexer": "ipython3",
   "version": "3.12.3"
  }
 },
 "nbformat": 4,
 "nbformat_minor": 5
}

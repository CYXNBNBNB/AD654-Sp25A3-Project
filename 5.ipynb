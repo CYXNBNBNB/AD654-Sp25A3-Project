{
 "cells": [
  {
   "cell_type": "markdown",
   "id": "496fb8c5",
   "metadata": {},
   "source": [
    "Here are the websites we find the datafrom:\n",
    "\n",
    "https://www.macrotrends.net/stocks/charts/NCLH/norwegian-cruise-line-holdings/eps-earnings-per-share-diluted\n",
    "\n",
    "https://www.macrotrends.net/stocks/charts/CCL/carnival/eps-earnings-per-share-diluted"
   ]
  },
  {
   "cell_type": "code",
   "execution_count": 5,
   "id": "59a3d469",
   "metadata": {},
   "outputs": [
    {
     "name": "stdout",
     "output_type": "stream",
     "text": [
      "NCLH 2025 EPS Forecast (ARIMA): 0.58\n",
      "CCL 2025 EPS Forecast (ARIMA): 0.65\n"
     ]
    }
   ],
   "source": [
    "import pandas as pd\n",
    "from statsmodels.tsa.arima.model import ARIMA\n",
    "\n",
    "# Define the years and corresponding EPS data for NCLH and CCL\n",
    "years = list(range(2010, 2025))\n",
    "nclh_eps = [0.13, 0.71, 0.94, 0.49, 1.62, 1.86, 2.78, 3.31, 4.25, 4.30, -15.75, -12.33, -5.41, 0.39, 1.89]\n",
    "ccl_eps = [2.47, 2.42, 1.67, 1.36, 1.56, 2.26, 3.72, 3.59, 4.44, 4.32, -13.20, -8.46, -5.16, -0.06, 1.44]\n",
    "\n",
    "# Create PeriodIndex for annual frequency\n",
    "index = pd.period_range(start='2010', periods=len(years), freq='A')\n",
    "\n",
    "# Create pandas Series with the EPS data\n",
    "nclh_series = pd.Series(nclh_eps, index=index)\n",
    "ccl_series = pd.Series(ccl_eps, index=index)\n",
    "\n",
    "# Fit ARIMA models with specified parameters\n",
    "model_nclh = ARIMA(nclh_series, order=(1, 1, 1), enforce_stationarity=False, enforce_invertibility=False)\n",
    "result_nclh = model_nclh.fit()\n",
    "\n",
    "model_ccl = ARIMA(ccl_series, order=(1, 1, 1), enforce_stationarity=False, enforce_invertibility=False)\n",
    "result_ccl = model_ccl.fit()\n",
    "\n",
    "# Forecast EPS for 2025\n",
    "forecast_nclh = result_nclh.forecast(steps=1)\n",
    "forecast_ccl = result_ccl.forecast(steps=1)\n",
    "\n",
    "# Output the forecasts\n",
    "print(f\"NCLH 2025 EPS Forecast (ARIMA): {forecast_nclh.values[0]:.2f}\")\n",
    "print(f\"CCL 2025 EPS Forecast (ARIMA): {forecast_ccl.values[0]:.2f}\")"
   ]
  },
  {
   "cell_type": "markdown",
   "id": "b182ffc7",
   "metadata": {},
   "source": [
    "To forecast the 2025 Earnings Per Share (EPS) for Norwegian Cruise Line Holdings (NCLH) and Carnival Corporation (CCL), we utilized historical annual EPS data from 2010 to 2024, sourced from MacroTrends. We applied the ARIMA model, a widely used time series forecasting method, to predict the next year's EPS for each company. The data were structured using a PeriodIndex with annual frequency to ensure proper time series alignment. PeriodIndex represents a period of time, instead of a specific point in time. So that our model would know the data is organized by consistent time intervals. As the data for 2020-2022 receives the impact of the global epidemic of COVID-19, the global economy forms a recession, causing the share prices of many large companies to plummet. Thus, to accommodate potential non-stationarity and non-invertibility in the data, the ARIMA models were configured with enforce_stationarity=False and enforce_invertibility=False. After fitting the models, we generated one-step-ahead forecasts for the year 2025. The projected EPS for 2025 are as follows:\n",
    "\n",
    "NCLH 2025 EPS Forecast (ARIMA): 0.58\n",
    "\n",
    "CCL 2025 EPS Forecast (ARIMA): 0.65\n",
    "\n",
    "These forecasts provide a quantitative basis for anticipating the financial performance of both companies in the upcoming year. "
   ]
  }
 ],
 "metadata": {
  "kernelspec": {
   "display_name": "base",
   "language": "python",
   "name": "python3"
  },
  "language_info": {
   "codemirror_mode": {
    "name": "ipython",
    "version": 3
   },
   "file_extension": ".py",
   "mimetype": "text/x-python",
   "name": "python",
   "nbconvert_exporter": "python",
   "pygments_lexer": "ipython3",
   "version": "3.11.7"
  }
 },
 "nbformat": 4,
 "nbformat_minor": 5
}
